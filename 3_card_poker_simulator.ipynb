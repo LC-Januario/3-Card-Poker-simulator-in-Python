{
  "nbformat": 4,
  "nbformat_minor": 0,
  "metadata": {
    "colab": {
      "provenance": []
    },
    "kernelspec": {
      "name": "python3",
      "display_name": "Python 3"
    },
    "language_info": {
      "name": "python"
    }
  },
  "cells": [
    {
      "cell_type": "code",
      "source": [
        "import random\n",
        "import itertools\n"
      ],
      "metadata": {
        "id": "aKGcutbOd6Sm"
      },
      "execution_count": null,
      "outputs": []
    },
    {
      "cell_type": "code",
      "source": [
        "deck = generate_deck()\n",
        "\n",
        "deck_shuffled = shuffle_deck(deck)\n",
        "\n",
        "player_1_hand = draw_cards(deck_shuffled)[0]\n",
        "player_2_hand = draw_cards(deck_shuffled)[1]\n",
        "\n",
        "player_1_score = classify_hand(player_1_hand)[0]\n",
        "player_2_score = classify_hand(player_2_hand)[0]\n",
        "\n",
        "player_1_combination = classify_hand(player_1_hand)[1]\n",
        "player_2_combination = classify_hand(player_2_hand)[1]\n",
        "\n",
        "winner = determine_winner(player_1_score, player_2_score)\n",
        "\n",
        "print(\"Player 1's hand:\", player_1_hand , ', ', player_1_combination)\n",
        "print(\"Player 2's hand:\", player_2_hand , ', ', player_2_combination)\n",
        "print(\"The winner is:\", winner)"
      ],
      "metadata": {
        "colab": {
          "base_uri": "https://localhost:8080/"
        },
        "id": "ADaYHjmJa6yd",
        "outputId": "a38f5468-cab7-424c-fb99-a9d2d60af3d1"
      },
      "execution_count": null,
      "outputs": [
        {
          "output_type": "stream",
          "name": "stdout",
          "text": [
            "Player 1's hand: ['Q of Diamonds', '4 of Spades', 'Q of Spades'] ,  pair\n",
            "Player 2's hand: ['2 of Spades', 'A of Hearts', '2 of Hearts'] ,  pair\n",
            "The winner is: player 1\n"
          ]
        }
      ]
    },
    {
      "cell_type": "code",
      "execution_count": null,
      "metadata": {
        "colab": {
          "base_uri": "https://localhost:8080/"
        },
        "id": "treDucSNL8uG",
        "outputId": "1328f657-a0c8-439e-e30a-9ed8b469b15a"
      },
      "outputs": [
        {
          "output_type": "stream",
          "name": "stdout",
          "text": [
            "2 of Hearts\n",
            "2 of Diamonds\n",
            "2 of Clubs\n",
            "2 of Spades\n",
            "3 of Hearts\n",
            "3 of Diamonds\n",
            "3 of Clubs\n",
            "3 of Spades\n",
            "4 of Hearts\n",
            "4 of Diamonds\n",
            "4 of Clubs\n",
            "4 of Spades\n",
            "5 of Hearts\n",
            "5 of Diamonds\n",
            "5 of Clubs\n",
            "5 of Spades\n",
            "6 of Hearts\n",
            "6 of Diamonds\n",
            "6 of Clubs\n",
            "6 of Spades\n",
            "7 of Hearts\n",
            "7 of Diamonds\n",
            "7 of Clubs\n",
            "7 of Spades\n",
            "8 of Hearts\n",
            "8 of Diamonds\n",
            "8 of Clubs\n",
            "8 of Spades\n",
            "9 of Hearts\n",
            "9 of Diamonds\n",
            "9 of Clubs\n",
            "9 of Spades\n",
            "10 of Hearts\n",
            "10 of Diamonds\n",
            "10 of Clubs\n",
            "10 of Spades\n",
            "J of Hearts\n",
            "J of Diamonds\n",
            "J of Clubs\n",
            "J of Spades\n",
            "Q of Hearts\n",
            "Q of Diamonds\n",
            "Q of Clubs\n",
            "Q of Spades\n",
            "K of Hearts\n",
            "K of Diamonds\n",
            "K of Clubs\n",
            "K of Spades\n",
            "A of Hearts\n",
            "A of Diamonds\n",
            "A of Clubs\n",
            "A of Spades\n"
          ]
        }
      ],
      "source": [
        "\n",
        "def generate_deck():\n",
        "    # Define the ranks and suits\n",
        "    ranks = ['2', '3', '4', '5', '6', '7', '8', '9', '10', 'J', 'Q', 'K', 'A']\n",
        "    suits = ['Hearts', 'Diamonds', 'Clubs', 'Spades']\n",
        "\n",
        "    # Generate the deck using itertools.product\n",
        "    deck = list(itertools.product(ranks, suits))\n",
        "\n",
        "    # Convert tuples to string representation\n",
        "    deck = [f\"{rank} of {suit}\" for rank, suit in deck]\n",
        "\n",
        "    return deck\n",
        "\n",
        "# Generate and print the deck\n",
        "deck_of_cards = generate_deck()\n",
        "for card in deck_of_cards:\n",
        "    print(card)\n"
      ]
    },
    {
      "cell_type": "code",
      "source": [
        "three_card_poker_hand_ranking = {\n",
        "    'straight_flush': 19,\n",
        "    'flush': 18,\n",
        "    'straight': 17,\n",
        "    'three_of_a_kind': 16,\n",
        "    'pair': 15,\n",
        "    'A': 14,\n",
        "    'K': 13,\n",
        "    'Q': 12,\n",
        "    'J': 11,\n",
        "    '10': 10,\n",
        "    '9': 9,\n",
        "    '8': 8,\n",
        "    '7': 7,\n",
        "    '6': 6,\n",
        "    '5': 5,\n",
        "    '4': 4,\n",
        "    '3': 3,\n",
        "    '2': 2,\n",
        "    'high_card': 1\n",
        "}\n"
      ],
      "metadata": {
        "id": "msBovvCuRBPh"
      },
      "execution_count": null,
      "outputs": []
    },
    {
      "cell_type": "code",
      "source": [
        "def shuffle_deck(deck):\n",
        "    # Use random.shuffle to shuffle the deck in place\n",
        "    random.shuffle(deck)\n",
        "    return deck\n",
        "\n",
        "\n"
      ],
      "metadata": {
        "id": "uBZhI5-0Mcdz"
      },
      "execution_count": null,
      "outputs": []
    },
    {
      "cell_type": "code",
      "source": [
        "def draw_cards(deck, num_cards=3):\n",
        "    # Draw num_cards from the deck for each player\n",
        "    player_1_hand = [deck.pop() for _ in range(num_cards)]\n",
        "    player_2_hand = [deck.pop() for _ in range(num_cards)]\n",
        "\n",
        "\n",
        "    return player_1_hand, player_2_hand\n"
      ],
      "metadata": {
        "id": "FUat17kZNjrc"
      },
      "execution_count": null,
      "outputs": []
    },
    {
      "cell_type": "code",
      "source": [
        "def classify_hand(player_hand):\n",
        "    # Split cards into ranks and suits\n",
        "    ranks = {'A': 14, 'K': 13, 'Q': 12, 'J': 11, '10': 10, '9': 9, '8': 8, '7': 7, '6': 6, '5': 5, '4': 4, '3': 3, '2': 2}\n",
        "    rank_counts = {rank: 0 for rank in ranks}\n",
        "    suits = {}\n",
        "\n",
        "    for card in player_hand:\n",
        "        rank, suit = card.split(\" of \")\n",
        "        rank_counts[rank] += 1\n",
        "        if suit in suits:\n",
        "            suits[suit].append(ranks[rank])\n",
        "        else:\n",
        "            suits[suit] = [ranks[rank]]\n",
        "\n",
        "    # Check for specific combinations\n",
        "    is_flush = any(len(cards) == 3 for cards in suits.values())\n",
        "    is_straight = any(sorted(cards) == list(range(min(cards), min(cards) + 3)) for cards in suits.values())\n",
        "    is_straight_flush = is_flush and is_straight\n",
        "    is_three_of_a_kind = 3 in rank_counts.values()\n",
        "    is_pair = 2 in rank_counts.values()\n",
        "\n",
        "\n",
        "\n",
        "    if is_straight_flush:\n",
        "        combination = 'straight_flush'\n",
        "        highest_card = max(ranks[rank] for rank in rank_counts if rank_counts[rank] > 0)\n",
        "    elif is_three_of_a_kind:\n",
        "        combination = 'three_of_a_kind'\n",
        "        highest_card = max(ranks[rank] for rank in rank_counts if rank_counts[rank] > 0)\n",
        "    elif is_straight:\n",
        "        combination = 'straight'\n",
        "        highest_card = max(ranks[rank] for rank in rank_counts if rank_counts[rank] > 0)\n",
        "    elif is_flush:\n",
        "        combination = 'flush'\n",
        "        highest_card = max(ranks[rank] for rank in rank_counts if rank_counts[rank] > 0)\n",
        "    elif is_pair:\n",
        "        combination = 'pair'\n",
        "        highest_card = max(ranks[rank] for rank in rank_counts if rank_counts[rank] == 2)\n",
        "    else:\n",
        "        combination = 'high_card'\n",
        "        highest_card = max(ranks[rank] for rank in rank_counts if rank_counts[rank] > 0)\n",
        "\n",
        "    player_score = {\n",
        "        'combination': three_card_poker_hand_ranking[combination],\n",
        "        'highest': highest_card\n",
        "    }\n",
        "\n",
        "    return player_score, combination\n",
        "\n"
      ],
      "metadata": {
        "id": "dmTdSe_9Rfmq"
      },
      "execution_count": null,
      "outputs": []
    },
    {
      "cell_type": "code",
      "source": [
        "def determine_winner(player_1_score, player_2_score):\n",
        "    if player_1_score['combination'] > player_2_score['combination']:\n",
        "        winner = 'player 1'\n",
        "    elif player_2_score['combination'] > player_1_score['combination']:\n",
        "        winner = 'player 2'\n",
        "    elif player_1_score['highest'] > player_2_score['highest']:\n",
        "        winner = 'player 1'\n",
        "    elif player_2_score['highest'] > player_1_score['highest']:\n",
        "        winner = 'player 2'\n",
        "    else:\n",
        "        winner = 'tie'  # In case of an exact tie on both combination and highest card\n",
        "\n",
        "    return winner\n",
        "\n"
      ],
      "metadata": {
        "id": "iXsWtMX-aRnw"
      },
      "execution_count": null,
      "outputs": []
    }
  ]
}